{
 "cells": [
  {
   "cell_type": "code",
   "execution_count": null,
   "metadata": {
    "collapsed": false
   },
   "outputs": [
    {
     "name": "stderr",
     "output_type": "stream",
     "text": [
      "Using Theano backend.\n"
     ]
    },
    {
     "name": "stdout",
     "output_type": "stream",
     "text": [
      "X_train shape: (32000L, 1L, 28L, 28L)\n",
      "32000 train samples\n",
      "10000 test samples\n",
      "Epoch 1/10\n",
      " 3328/32000 [==>...........................] - ETA: 565s - loss: 1.6816 - acc: 0.4805"
     ]
    }
   ],
   "source": [
    "from __future__ import print_function\n",
    "import numpy as np\n",
    "\n",
    "from keras.datasets import mnist\n",
    "from keras.models import Sequential\n",
    "from keras.layers import Dense, Dropout, Activation, Flatten\n",
    "from keras.layers import Convolution2D, MaxPooling2D\n",
    "from keras.utils import np_utils\n",
    "from keras import backend as K\n",
    "\n",
    "from numpy import genfromtxt\n",
    "my_data = genfromtxt(r'C:\\Users\\Rishabh\\Documents\\Spring 17\\Big Data Ecosystems\\prog_assg\\train.csv', delimiter=',')\n",
    "t_data = genfromtxt(r'C:\\Users\\Rishabh\\Documents\\Spring 17\\Big Data Ecosystems\\prog_assg\\test.csv', delimiter=',')\n",
    "\n",
    "batch_size = 128\n",
    "n_classes = 10\n",
    "n_epoch = 10\n",
    "\n",
    "\n",
    "dim_img_rows, dim_img_cols = 28, 28\n",
    "\n",
    "n_filt = 32\n",
    "\n",
    "pool_size = (2, 2)\n",
    "\n",
    "kernel_size = (3, 3)\n",
    "\n",
    "#X_train = my_data[1:27001, 1:785]\n",
    "#Y_train = my_data[1:27001, 0]\n",
    "#X_test = my_data[27001:32001, 1:785]\n",
    "#Y_test = my_data[27001:32001, 0]\n",
    "\n",
    "X_train = my_data[1:32001, 1:785]\n",
    "Y_train = my_data[1:32001, 0]\n",
    "\n",
    "X_test = t_data[1:10001, 0:784]\n",
    "\n",
    "\n",
    "    X_train = X_train.reshape(X_train.shape[0], 1, dim_img_rows, dim_img_cols)\n",
    "    X_test = X_test.reshape(X_test.shape[0], 1, dim_img_rows, dim_img_cols)\n",
    "    input_shape = (1, img_rows, img_cols)\n",
    "\n",
    "\n",
    "X_train = X_train.astype('float32')\n",
    "X_test = X_test.astype('float32')\n",
    "X_train /= 255\n",
    "X_test /= 255\n",
    "print('X_train shape:', X_train.shape)\n",
    "print(X_train.shape[0], 'train samples')\n",
    "print(X_test.shape[0], 'test samples')\n",
    "\n",
    "Y_train = np_utils.to_categorical(Y_train, n_classes)\n",
    "#Y_test = np_utils.to_categorical(Y_test, n_classes)\n",
    "\n",
    "model = Sequential()\n",
    "\n",
    "model.add(Convolution2D(n_filt, kernel_size[0], kernel_size[1],\n",
    "                        border_mode='valid',\n",
    "                        input_shape=input_shape))\n",
    "model.add(Activation('relu'))\n",
    "model.add(Convolution2D(n_filt, kernel_size[0], kernel_size[1]))\n",
    "model.add(Activation('relu'))\n",
    "model.add(MaxPooling2D(pool_size=pool_size))\n",
    "model.add(Dropout(0.25))\n",
    "\n",
    "model.add(Flatten())\n",
    "model.add(Dense(128))\n",
    "model.add(Activation('relu'))\n",
    "model.add(Dropout(0.37))\n",
    "model.add(Dense(n_classes))\n",
    "model.add(Activation('softmax'))\n",
    "\n",
    "model.compile(loss='categorical_crossentropy',\n",
    "              optimizer='adadelta',\n",
    "              metrics=['accuracy'])\n",
    "\n",
    "model.fit(X_train, Y_train, batch_size=batch_size, nb_epoch=n_epoch,\n",
    "          verbose=1)\n",
    "\n",
    "#, validation_data=(X_test, Y_test)\n",
    "#score = model.evaluate(X_test, Y_test, verbose=0)\n",
    "#print('Test score:', score[0])\n",
    "#print('Test accuracy:', score[1])\n"
   ]
  },
  {
   "cell_type": "code",
   "execution_count": 143,
   "metadata": {
    "collapsed": false
   },
   "outputs": [
    {
     "name": "stdout",
     "output_type": "stream",
     "text": [
      " 9912/10000 [============================>.] - ETA: 0s[6 7 0 ..., 7 6 9]\n"
     ]
    }
   ],
   "source": [
    "classes = model.predict_classes(X_test, batch_size=1)\n",
    "print(classes)"
   ]
  },
  {
   "cell_type": "code",
   "execution_count": 144,
   "metadata": {
    "collapsed": false
   },
   "outputs": [],
   "source": [
    "import csv\n",
    "with open('test_solution_Rishabh_2.csv', 'wb') as f:\n",
    "    writer = csv.writer(f)\n",
    "    for values in classes:\n",
    "        writer.writerow([values])\n",
    "    f.close"
   ]
  }
 ],
 "metadata": {
  "anaconda-cloud": {},
  "kernelspec": {
   "display_name": "Python [Root]",
   "language": "python",
   "name": "Python [Root]"
  },
  "language_info": {
   "codemirror_mode": {
    "name": "ipython",
    "version": 2
   },
   "file_extension": ".py",
   "mimetype": "text/x-python",
   "name": "python",
   "nbconvert_exporter": "python",
   "pygments_lexer": "ipython2",
   "version": "2.7.12"
  }
 },
 "nbformat": 4,
 "nbformat_minor": 0
}
